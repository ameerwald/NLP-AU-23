{
 "cells": [
  {
   "cell_type": "code",
   "execution_count": 6,
   "metadata": {},
   "outputs": [],
   "source": [
    "import pandas as pd\n",
    "from pandas import json_normalize\n"
   ]
  },
  {
   "cell_type": "code",
   "execution_count": null,
   "metadata": {},
   "outputs": [],
   "source": [
    "df = pd.read_json(\"../../EXAM/data/Afstemning.json\")"
   ]
  },
  {
   "cell_type": "code",
   "execution_count": 5,
   "metadata": {},
   "outputs": [
    {
     "data": {
      "text/plain": [
       "0    {'id': 1, 'nummer': 411, 'konklusion': 'Vedtag...\n",
       "1    {'id': 2, 'nummer': 412, 'konklusion': 'Vedtag...\n",
       "2    {'id': 3, 'nummer': 1, 'konklusion': 'Vedtaget...\n",
       "3    {'id': 4, 'nummer': 7, 'konklusion': 'Vedtaget...\n",
       "4    {'id': 5, 'nummer': 412, 'konklusion': 'Vedtag...\n",
       "Name: value, dtype: object"
      ]
     },
     "execution_count": 5,
     "metadata": {},
     "output_type": "execute_result"
    }
   ],
   "source": [
    "df['value'].head()"
   ]
  },
  {
   "cell_type": "code",
   "execution_count": 8,
   "metadata": {},
   "outputs": [
    {
     "data": {
      "text/html": [
       "<div>\n",
       "<style scoped>\n",
       "    .dataframe tbody tr th:only-of-type {\n",
       "        vertical-align: middle;\n",
       "    }\n",
       "\n",
       "    .dataframe tbody tr th {\n",
       "        vertical-align: top;\n",
       "    }\n",
       "\n",
       "    .dataframe thead th {\n",
       "        text-align: right;\n",
       "    }\n",
       "</style>\n",
       "<table border=\"1\" class=\"dataframe\">\n",
       "  <thead>\n",
       "    <tr style=\"text-align: right;\">\n",
       "      <th></th>\n",
       "      <th>odata.metadata</th>\n",
       "      <th>odata.count</th>\n",
       "      <th>value</th>\n",
       "      <th>odata.nextLink</th>\n",
       "      <th>id</th>\n",
       "      <th>nummer</th>\n",
       "      <th>konklusion</th>\n",
       "      <th>vedtaget</th>\n",
       "      <th>kommentar</th>\n",
       "      <th>mødeid</th>\n",
       "      <th>typeid</th>\n",
       "      <th>sagstrinid</th>\n",
       "      <th>opdateringsdato</th>\n",
       "    </tr>\n",
       "  </thead>\n",
       "  <tbody>\n",
       "    <tr>\n",
       "      <th>0</th>\n",
       "      <td>https://oda.ft.dk/api/$metadata#Afstemning</td>\n",
       "      <td>9281</td>\n",
       "      <td>{'id': 1, 'nummer': 411, 'konklusion': 'Vedtag...</td>\n",
       "      <td>https://oda.ft.dk/api/Afstemning?$inlinecount=...</td>\n",
       "      <td>1</td>\n",
       "      <td>411</td>\n",
       "      <td>Vedtaget\\n\\n108 stemmer for forslaget (V, S, D...</td>\n",
       "      <td>True</td>\n",
       "      <td>None</td>\n",
       "      <td>17</td>\n",
       "      <td>2</td>\n",
       "      <td>NaN</td>\n",
       "      <td>2014-09-09T09:05:59.653</td>\n",
       "    </tr>\n",
       "    <tr>\n",
       "      <th>1</th>\n",
       "      <td>https://oda.ft.dk/api/$metadata#Afstemning</td>\n",
       "      <td>9281</td>\n",
       "      <td>{'id': 2, 'nummer': 412, 'konklusion': 'Vedtag...</td>\n",
       "      <td>https://oda.ft.dk/api/Afstemning?$inlinecount=...</td>\n",
       "      <td>2</td>\n",
       "      <td>412</td>\n",
       "      <td>Vedtaget\\n\\n98 stemmer for forslaget (V, S, DF...</td>\n",
       "      <td>True</td>\n",
       "      <td>None</td>\n",
       "      <td>18</td>\n",
       "      <td>1</td>\n",
       "      <td>4849.0</td>\n",
       "      <td>2014-09-09T09:25:05.717</td>\n",
       "    </tr>\n",
       "    <tr>\n",
       "      <th>2</th>\n",
       "      <td>https://oda.ft.dk/api/$metadata#Afstemning</td>\n",
       "      <td>9281</td>\n",
       "      <td>{'id': 3, 'nummer': 1, 'konklusion': 'Vedtaget...</td>\n",
       "      <td>https://oda.ft.dk/api/Afstemning?$inlinecount=...</td>\n",
       "      <td>3</td>\n",
       "      <td>1</td>\n",
       "      <td>Vedtaget\\n\\n59 stemmer for forslaget (S, RV, S...</td>\n",
       "      <td>True</td>\n",
       "      <td></td>\n",
       "      <td>41</td>\n",
       "      <td>3</td>\n",
       "      <td>17351.0</td>\n",
       "      <td>2018-01-24T16:46:33.99</td>\n",
       "    </tr>\n",
       "    <tr>\n",
       "      <th>3</th>\n",
       "      <td>https://oda.ft.dk/api/$metadata#Afstemning</td>\n",
       "      <td>9281</td>\n",
       "      <td>{'id': 4, 'nummer': 7, 'konklusion': 'Vedtaget...</td>\n",
       "      <td>https://oda.ft.dk/api/Afstemning?$inlinecount=...</td>\n",
       "      <td>4</td>\n",
       "      <td>7</td>\n",
       "      <td>Vedtaget\\n\\n72 stemmer for forslaget (S, DF, R...</td>\n",
       "      <td>True</td>\n",
       "      <td></td>\n",
       "      <td>156</td>\n",
       "      <td>1</td>\n",
       "      <td>18370.0</td>\n",
       "      <td>2018-01-25T10:25:25.64</td>\n",
       "    </tr>\n",
       "    <tr>\n",
       "      <th>4</th>\n",
       "      <td>https://oda.ft.dk/api/$metadata#Afstemning</td>\n",
       "      <td>9281</td>\n",
       "      <td>{'id': 5, 'nummer': 412, 'konklusion': 'Vedtag...</td>\n",
       "      <td>https://oda.ft.dk/api/Afstemning?$inlinecount=...</td>\n",
       "      <td>5</td>\n",
       "      <td>412</td>\n",
       "      <td>Vedtaget\\n\\n98 stemmer for forslaget (V, S, DF...</td>\n",
       "      <td>True</td>\n",
       "      <td></td>\n",
       "      <td>18</td>\n",
       "      <td>1</td>\n",
       "      <td>4849.0</td>\n",
       "      <td>2017-08-10T12:57:52.27</td>\n",
       "    </tr>\n",
       "  </tbody>\n",
       "</table>\n",
       "</div>"
      ],
      "text/plain": [
       "                               odata.metadata  odata.count  \\\n",
       "0  https://oda.ft.dk/api/$metadata#Afstemning         9281   \n",
       "1  https://oda.ft.dk/api/$metadata#Afstemning         9281   \n",
       "2  https://oda.ft.dk/api/$metadata#Afstemning         9281   \n",
       "3  https://oda.ft.dk/api/$metadata#Afstemning         9281   \n",
       "4  https://oda.ft.dk/api/$metadata#Afstemning         9281   \n",
       "\n",
       "                                               value  \\\n",
       "0  {'id': 1, 'nummer': 411, 'konklusion': 'Vedtag...   \n",
       "1  {'id': 2, 'nummer': 412, 'konklusion': 'Vedtag...   \n",
       "2  {'id': 3, 'nummer': 1, 'konklusion': 'Vedtaget...   \n",
       "3  {'id': 4, 'nummer': 7, 'konklusion': 'Vedtaget...   \n",
       "4  {'id': 5, 'nummer': 412, 'konklusion': 'Vedtag...   \n",
       "\n",
       "                                      odata.nextLink  id  nummer  \\\n",
       "0  https://oda.ft.dk/api/Afstemning?$inlinecount=...   1     411   \n",
       "1  https://oda.ft.dk/api/Afstemning?$inlinecount=...   2     412   \n",
       "2  https://oda.ft.dk/api/Afstemning?$inlinecount=...   3       1   \n",
       "3  https://oda.ft.dk/api/Afstemning?$inlinecount=...   4       7   \n",
       "4  https://oda.ft.dk/api/Afstemning?$inlinecount=...   5     412   \n",
       "\n",
       "                                          konklusion  vedtaget kommentar  \\\n",
       "0  Vedtaget\\n\\n108 stemmer for forslaget (V, S, D...      True      None   \n",
       "1  Vedtaget\\n\\n98 stemmer for forslaget (V, S, DF...      True      None   \n",
       "2  Vedtaget\\n\\n59 stemmer for forslaget (S, RV, S...      True             \n",
       "3  Vedtaget\\n\\n72 stemmer for forslaget (S, DF, R...      True             \n",
       "4  Vedtaget\\n\\n98 stemmer for forslaget (V, S, DF...      True             \n",
       "\n",
       "   mødeid  typeid  sagstrinid          opdateringsdato  \n",
       "0      17       2         NaN  2014-09-09T09:05:59.653  \n",
       "1      18       1      4849.0  2014-09-09T09:25:05.717  \n",
       "2      41       3     17351.0   2018-01-24T16:46:33.99  \n",
       "3     156       1     18370.0   2018-01-25T10:25:25.64  \n",
       "4      18       1      4849.0   2017-08-10T12:57:52.27  "
      ]
     },
     "execution_count": 8,
     "metadata": {},
     "output_type": "execute_result"
    }
   ],
   "source": [
    "# Use json_normalize to split the dictionary_column into separate columns\n",
    "normalized_df = json_normalize(df['value'])\n",
    "\n",
    "# Concatenate the new columns with the original DataFrame\n",
    "result = pd.concat([df, normalized_df], axis=1)\n",
    "\n",
    "# Display the result\n",
    "result.head()"
   ]
  },
  {
   "cell_type": "code",
   "execution_count": 12,
   "metadata": {},
   "outputs": [
    {
     "data": {
      "text/plain": [
       "'Vedtaget\\n\\n108 stemmer for forslaget (V, S, DF, RV, SF, EL, LA, KF, UFG)\\n\\n0 stemmer imod forslaget\\n\\n0 stemmer hverken for eller imod forslaget\\n\\n'"
      ]
     },
     "execution_count": 12,
     "metadata": {},
     "output_type": "execute_result"
    }
   ],
   "source": [
    "result['konklusion'][0]"
   ]
  },
  {
   "cell_type": "code",
   "execution_count": null,
   "metadata": {},
   "outputs": [],
   "source": []
  }
 ],
 "metadata": {
  "kernelspec": {
   "display_name": "env",
   "language": "python",
   "name": "env"
  },
  "language_info": {
   "codemirror_mode": {
    "name": "ipython",
    "version": 3
   },
   "file_extension": ".py",
   "mimetype": "text/x-python",
   "name": "python",
   "nbconvert_exporter": "python",
   "pygments_lexer": "ipython3",
   "version": "3.10.12"
  },
  "orig_nbformat": 4
 },
 "nbformat": 4,
 "nbformat_minor": 2
}
